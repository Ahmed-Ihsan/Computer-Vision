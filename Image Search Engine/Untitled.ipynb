{
 "cells": [
  {
   "cell_type": "code",
   "execution_count": 1,
   "id": "f02bb65a-5add-4b64-8665-78145c90699f",
   "metadata": {},
   "outputs": [
    {
     "data": {
      "text/plain": [
       "-1"
      ]
     },
     "execution_count": 1,
     "metadata": {},
     "output_type": "execute_result"
    }
   ],
   "source": [
    "import cv2\n",
    "\n",
    "# path\n",
    "path = r'w.jpg'\n",
    " \n",
    "# Using cv2.imread() method\n",
    "# Using 0 to read image in grayscale mode\n",
    "img = cv2.imread(path)\n",
    " \n",
    "# Displaying the image\n",
    "cv2.imshow('image', img)\n",
    "cv2.waitKey(0)"
   ]
  },
  {
   "cell_type": "code",
   "execution_count": 2,
   "id": "974bdd45-b25d-4e93-9380-d60cdae18b1d",
   "metadata": {},
   "outputs": [],
   "source": [
    "import numpy as np\n",
    "\n",
    "x=img.copy()\n",
    "x = np.reshape(x , (-1,1))"
   ]
  },
  {
   "cell_type": "code",
   "execution_count": 3,
   "id": "1aae3702-541c-4188-8610-1be2d563b6a9",
   "metadata": {},
   "outputs": [
    {
     "name": "stdout",
     "output_type": "stream",
     "text": [
      "(151218, 1)\n"
     ]
    }
   ],
   "source": [
    "from sklearn.metrics import r2_score\n",
    "print(x.shape)\n",
    "\n",
    "x = r2_score(x, x)"
   ]
  },
  {
   "cell_type": "code",
   "execution_count": 5,
   "id": "978f37cc-97e9-47c8-aeef-a568c6ef670b",
   "metadata": {},
   "outputs": [
    {
     "data": {
      "text/plain": [
       "100.0"
      ]
     },
     "execution_count": 5,
     "metadata": {},
     "output_type": "execute_result"
    }
   ],
   "source": [
    "x*100"
   ]
  },
  {
   "cell_type": "code",
   "execution_count": 20,
   "id": "7559831a-a544-407e-9f99-6870fafbf72b",
   "metadata": {},
   "outputs": [
    {
     "name": "stdout",
     "output_type": "stream",
     "text": [
      "97.64828699180637\n"
     ]
    }
   ],
   "source": [
    "import cv2\n",
    "import numpy as np\n",
    "from sklearn.metrics import r2_score\n",
    "\n",
    "# path\n",
    "path1 = r'1img.jpg'\n",
    "path2 = r'2img.jpg'\n",
    " \n",
    "# Using cv2.imread() method\n",
    "# Using 0 to read image in grayscale mode\n",
    "img1 = cv2.imread(path1)\n",
    "img2 = cv2.imread(path2)\n",
    "\n",
    "# Displaying the image\n",
    "cv2.imshow('image', img1)\n",
    "cv2.imshow('image2', img2)\n",
    "\n",
    "cv2.waitKey(0)\n",
    "\n",
    "x1 =img1.copy()\n",
    "x2 =img2.copy()\n",
    "\n",
    "x1 = np.reshape(x1 , (-1,1))\n",
    "x2 = np.reshape(x2 , (-1,1))\n",
    "\n",
    "if len(x1) > len(x2):\n",
    "    res = r2_score(x1[:len(x2)], x2)\n",
    "else:\n",
    "    res = r2_score(x1, x2[:len(x1)])\n",
    "\n",
    "print(res*100)"
   ]
  },
  {
   "cell_type": "code",
   "execution_count": 21,
   "id": "f0b4438c-2c82-4999-8a58-ff4ba5015c23",
   "metadata": {},
   "outputs": [],
   "source": [
    "from PIL import Image, ImageChops\n",
    "  \n",
    "# assign images\n",
    "img1 = Image.open(\"1img.jpg\")\n",
    "img2 = Image.open(\"2img.jpg\")\n",
    "  \n",
    "# finding difference\n",
    "diff = ImageChops.difference(img1, img2)\n",
    "  \n",
    "# showing the difference\n",
    "diff.show()"
   ]
  },
  {
   "cell_type": "code",
   "execution_count": 22,
   "id": "26975fba-67be-4f99-8a94-c65cd61556fe",
   "metadata": {},
   "outputs": [
    {
     "data": {
      "text/plain": [
       "-1"
      ]
     },
     "execution_count": 22,
     "metadata": {},
     "output_type": "execute_result"
    }
   ],
   "source": [
    "import cv2\n",
    "import numpy as np\n",
    "\n",
    "img_rgb = cv2.imread('w2.png')\n",
    "template = cv2.imread('w1.png')\n",
    "w, h = template.shape[:-1]\n",
    "\n",
    "res = cv2.matchTemplate(img_rgb, template, cv2.TM_CCOEFF_NORMED)\n",
    "threshold = .95\n",
    "loc = np.where(res >= threshold)\n",
    "for pt in zip(*loc[::-1]):  # Switch collumns and rows\n",
    "    cv2.rectangle(img_rgb, pt, (pt[0] + w, pt[1] + h), (0, 0, 255), 2)\n",
    "\n",
    "cv2.imshow('result.png', img_rgb)\n",
    "cv2.waitKey(0)"
   ]
  },
  {
   "cell_type": "code",
   "execution_count": null,
   "id": "551f33d6-c087-43fc-8356-dfa3dd74facd",
   "metadata": {},
   "outputs": [],
   "source": []
  }
 ],
 "metadata": {
  "kernelspec": {
   "display_name": "Python 3",
   "language": "python",
   "name": "python3"
  },
  "language_info": {
   "codemirror_mode": {
    "name": "ipython",
    "version": 3
   },
   "file_extension": ".py",
   "mimetype": "text/x-python",
   "name": "python",
   "nbconvert_exporter": "python",
   "pygments_lexer": "ipython3",
   "version": "3.8.7"
  }
 },
 "nbformat": 4,
 "nbformat_minor": 5
}
